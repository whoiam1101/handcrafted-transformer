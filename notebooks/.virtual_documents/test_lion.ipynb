


import os
import sys

module_path = os.path.abspath(os.path.join('..'))
if module_path not in sys.path:
    sys.path.append(module_path)

import torch
import torch.nn as nn
import torch.nn.functional as F
import torchvision.transforms as transforms

from torchvision.datasets import MNIST
from torch.utils.data import DataLoader

from src.lion.lion import Lion

device = torch.device('cuda' if torch.cuda.is_available() else 'cpu')


transform = transforms.Compose([
    transforms.ToTensor(),
    transforms.Normalize((0.1307,), (0.3081,)),
])

train_dataset = MNIST(root='./data', train=True, download=True, transform=transform)
train_loader = DataLoader(dataset=train_dataset, batch_size=64, shuffle=True)

test_dataset = MNIST(root='./data', train=False, download=True, transform=transform)
test_loader = DataLoader(dataset=test_dataset, batch_size=64, shuffle=False)


class Model(nn.Module):
    def __init__(self, num_classes: int):
        super(Model, self).__init__()
        self.conv1 = nn.Conv2d(1, 8, kernel_size=3, padding=1)
        self.conv2 = nn.Conv2d(8, 16, kernel_size=3, padding=1)
        self.conv3 = nn.Conv2d(16, 32, kernel_size=3, padding=1)
        self.pool = nn.MaxPool2d(2, 2)
        self.dropout = nn.Dropout(0.25)
        self.fc1 = nn.Linear(32 * 3 * 3, 32)
        self.fc2 = nn.Linear(32, num_classes)

    def forward(self, x):
        x = self.pool(F.relu(self.conv1(x)))
        x = self.pool(F.relu(self.conv2(x)))
        x = self.pool(F.relu(self.conv3(x)))
        x = self.dropout(x)
        x = x.view(-1, 32 * 3 * 3)
        x = F.relu(self.fc1(x))
        x = self.dropout(x)
        x = self.fc2(x)
        return x


from torch.optim import Adam

batch_size = 32
epochs = 10
model_1 = Model(num_classes=10).to(device)
model_2 = Model(num_classes=10).to(device)

criterion = nn.CrossEntropyLoss()
optimizer_1 = Lion(model_1.parameters(), lr=0.0001)
optimizer_2 = Adam(model_2.parameters(), lr=0.0001)


import matplotlib.pyplot as plt


def train_model(model, optimizer, train_loader, test_loader, criterion, epochs):
    model.train()

    train_losses = []
    test_losses = []

    train_accuracies = []
    test_accuracies = []

    for epoch in range(epochs):
        running_loss = 0.0
        correct_train = 0
        total_train = 0
        for images, labels in train_loader:
            images, labels = images.to(device), labels.to(device)
            optimizer.zero_grad()
            outputs = model(images)
            loss = criterion(outputs, labels)
            loss.backward()
            optimizer.step()
            running_loss += loss.item()
            
            _, predicted = torch.max(outputs.data, 1)
            total_train += labels.size(0)
            correct_train += (predicted == labels).sum().item()
        
        epoch_loss = running_loss / len(train_loader)
        train_losses.append(epoch_loss)
        
        train_accuracy = 100 * correct_train / total_train
        train_accuracies.append(train_accuracy)
        
        model.eval()
        test_loss = 0.0
        correct = 0
        total = 0
        with torch.no_grad():
            for images, labels in test_loader:
                images, labels = images.to(device), labels.to(device)
                outputs = model(images)
                loss = criterion(outputs, labels)
                test_loss += loss.item()
                _, predicted = torch.max(outputs.data, 1)
                total += labels.size(0)
                correct += (predicted == labels).sum().item()
        test_loss /= len(test_loader)
        test_accuracy = 100 * correct / total
        test_losses.append(test_loss)
        test_accuracies.append(test_accuracy)
        
        print(f'Epoch [{epoch+1}/{epochs}], Train Loss: {epoch_loss:.4f}, Train Accuracy: {train_accuracy:.2f}%, Test Loss: {test_loss:.4f}, Test Accuracy: {test_accuracy:.2f}%')
        
        model.train()
    
    return train_losses, test_losses, train_accuracies, test_accuracies



print("Lion")
train_losses_1, test_losses_1, train_accuracies_1, test_accuracies_1 = train_model(model_1, optimizer_1, train_loader, test_loader, criterion, epochs)
print("\nAdam")
train_losses_2, test_losses_2, train_accuracies_2, test_accuracies_2 = train_model(model_2, optimizer_2, train_loader, test_loader, criterion, epochs)


plt.figure(figsize=(10, 5))
plt.plot(range(1, epochs + 1), train_losses_1, label='Lion Optimizer - Train Loss')
plt.plot(range(1, epochs + 1), test_losses_1, label='Lion Optimizer - Test Loss')
plt.plot(range(1, epochs + 1), train_losses_2, label='Adam Optimizer - Train Loss')
plt.plot(range(1, epochs + 1), test_losses_2, label='Adam Optimizer - Test Loss')
plt.xlabel('Epochs')
plt.ylabel('Loss')
plt.title('Training and Test Loss Comparison')
plt.legend()
plt.show()


plt.figure(figsize=(10, 5))
plt.plot(range(1, epochs + 1), train_accuracies_1, label='Lion Optimizer - Train Accuracy')
plt.plot(range(1, epochs + 1), test_accuracies_1, label='Lion Optimizer - Test Accuracy')
plt.plot(range(1, epochs + 1), train_accuracies_2, label='Adam Optimizer - Train Accuracy')
plt.plot(range(1, epochs + 1), test_accuracies_2, label='Adam Optimizer - Test Accuracy')
plt.xlabel('Epochs')
plt.ylabel('Accuracy (%)')
plt.title('Train and Test Accuracy Comparison')
plt.legend()
plt.show()
