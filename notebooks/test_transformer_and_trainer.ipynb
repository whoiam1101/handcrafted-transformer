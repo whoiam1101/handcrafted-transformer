{
 "cells": [
  {
   "cell_type": "markdown",
   "metadata": {},
   "source": [
    "# Test Transformer & Trainer\n",
    "\n",
    "In this notebook, I will test my implementation of Transformer and Trainer"
   ]
  },
  {
   "cell_type": "code",
   "execution_count": 1,
   "metadata": {},
   "outputs": [],
   "source": [
    "import os\n",
    "import sys\n",
    "\n",
    "module_path = os.path.abspath(os.path.join('..'))\n",
    "if module_path not in sys.path:\n",
    "    sys.path.append(module_path)\n",
    "\n",
    "import torch\n",
    "import torch.nn as nn\n",
    "import torch.nn.functional as F\n",
    "\n",
    "from src.lion.lion import Lion\n",
    "from src.transformer.transformer import Transformer\n",
    "from src.training.trainer import train_transformer\n",
    "\n",
    "device = torch.device('cpu')"
   ]
  },
  {
   "cell_type": "code",
   "execution_count": 2,
   "metadata": {},
   "outputs": [],
   "source": [
    "from torch.utils.data import Dataset, DataLoader\n",
    "\n",
    "NUM_NUMS = 8192\n",
    "SEQ_LENGTH = 4\n",
    "\n",
    "class NumberSeqDataset(Dataset):\n",
    "    def __init__(self):\n",
    "        self.data = torch.arange(NUM_NUMS)\n",
    "        self.seq_length = SEQ_LENGTH\n",
    "    \n",
    "    def __getitem__(self, idx):\n",
    "        src = self.data[idx:idx+self.seq_length]\n",
    "        tgt = self.data[idx+1:idx+self.seq_length+1]\n",
    "        return dict(src=src, tgt=tgt)\n",
    "\n",
    "    def __len__(self):\n",
    "        return len(self.data) - self.seq_length"
   ]
  },
  {
   "cell_type": "code",
   "execution_count": 3,
   "metadata": {},
   "outputs": [],
   "source": [
    "from torch.utils.data import random_split\n",
    "\n",
    "ds = NumberSeqDataset()\n",
    "N = len(ds)\n",
    "L = int(0.8 * N)\n",
    "R = N - L\n",
    "train_ds, eval_ds = random_split(ds, [L, R])\n",
    "\n",
    "train_dataloader = DataLoader(train_ds, batch_size=32, shuffle=True)\n",
    "val_dataloader = DataLoader(eval_ds, batch_size=32, shuffle=False)"
   ]
  },
  {
   "cell_type": "code",
   "execution_count": 4,
   "metadata": {},
   "outputs": [],
   "source": [
    "model = Transformer(\n",
    "    num_layers=4,\n",
    "    d_model=16,\n",
    "    num_heads=8,\n",
    "    d_ff=32,\n",
    "    input_dim=NUM_NUMS,\n",
    "    output_dim=NUM_NUMS,\n",
    "    max_len=16\n",
    ")"
   ]
  },
  {
   "cell_type": "code",
   "execution_count": 5,
   "metadata": {},
   "outputs": [
    {
     "name": "stderr",
     "output_type": "stream",
     "text": [
      "Epoch 1/100: 100%|██████████| 205/205 [00:09<00:00, 20.78it/s, loss=9.1] \n",
      "Validation: 100%|██████████| 52/52 [00:00<00:00, 86.90it/s]\n"
     ]
    },
    {
     "name": "stdout",
     "output_type": "stream",
     "text": [
      "Epoch 1/100: Train Loss: 9.1614, Val Loss: 9.1208\n",
      "Val metrics: 0.0\n"
     ]
    },
    {
     "name": "stderr",
     "output_type": "stream",
     "text": [
      "Epoch 2/100: 100%|██████████| 205/205 [00:09<00:00, 20.61it/s, loss=8.85]\n",
      "Validation: 100%|██████████| 52/52 [00:00<00:00, 82.33it/s]\n"
     ]
    },
    {
     "name": "stdout",
     "output_type": "stream",
     "text": [
      "Epoch 2/100: Train Loss: 9.0008, Val Loss: 9.0123\n",
      "Val metrics: 0.06105006323195994\n"
     ]
    },
    {
     "name": "stderr",
     "output_type": "stream",
     "text": [
      "Epoch 3/100: 100%|██████████| 205/205 [00:09<00:00, 20.99it/s, loss=8.74]\n",
      "Validation: 100%|██████████| 52/52 [00:00<00:00, 88.58it/s]\n"
     ]
    },
    {
     "name": "stdout",
     "output_type": "stream",
     "text": [
      "Epoch 3/100: Train Loss: 8.8327, Val Loss: 8.8978\n",
      "Val metrics: 0.06105006323195994\n"
     ]
    },
    {
     "name": "stderr",
     "output_type": "stream",
     "text": [
      "Epoch 4/100: 100%|██████████| 205/205 [00:09<00:00, 21.03it/s, loss=8.54]\n",
      "Validation: 100%|██████████| 52/52 [00:00<00:00, 77.24it/s]\n"
     ]
    },
    {
     "name": "stdout",
     "output_type": "stream",
     "text": [
      "Epoch 4/100: Train Loss: 8.6630, Val Loss: 8.7814\n",
      "Val metrics: 0.06105006323195994\n"
     ]
    },
    {
     "name": "stderr",
     "output_type": "stream",
     "text": [
      "Epoch 5/100: 100%|██████████| 205/205 [00:09<00:00, 20.57it/s, loss=8.4] \n",
      "Validation: 100%|██████████| 52/52 [00:00<00:00, 83.94it/s]\n"
     ]
    },
    {
     "name": "stdout",
     "output_type": "stream",
     "text": [
      "Epoch 5/100: Train Loss: 8.4775, Val Loss: 8.6597\n",
      "Val metrics: 0.08140008430927992\n"
     ]
    },
    {
     "name": "stderr",
     "output_type": "stream",
     "text": [
      "Epoch 6/100: 100%|██████████| 205/205 [00:09<00:00, 21.19it/s, loss=8.24]\n",
      "Validation: 100%|██████████| 52/52 [00:00<00:00, 85.60it/s]\n"
     ]
    },
    {
     "name": "stdout",
     "output_type": "stream",
     "text": [
      "Epoch 6/100: Train Loss: 8.2904, Val Loss: 8.5354\n",
      "Val metrics: 0.06105006323195994\n"
     ]
    },
    {
     "name": "stderr",
     "output_type": "stream",
     "text": [
      "Epoch 7/100: 100%|██████████| 205/205 [00:10<00:00, 20.15it/s, loss=7.97]\n",
      "Validation: 100%|██████████| 52/52 [00:00<00:00, 68.23it/s]\n"
     ]
    },
    {
     "name": "stdout",
     "output_type": "stream",
     "text": [
      "Epoch 7/100: Train Loss: 8.0928, Val Loss: 8.4083\n",
      "Val metrics: 0.10175009956583381\n"
     ]
    },
    {
     "name": "stderr",
     "output_type": "stream",
     "text": [
      "Epoch 8/100: 100%|██████████| 205/205 [00:10<00:00, 19.75it/s, loss=7.88]\n",
      "Validation: 100%|██████████| 52/52 [00:00<00:00, 83.62it/s]\n"
     ]
    },
    {
     "name": "stdout",
     "output_type": "stream",
     "text": [
      "Epoch 8/100: Train Loss: 7.8916, Val Loss: 8.2752\n",
      "Val metrics: 0.10175009956583381\n"
     ]
    },
    {
     "name": "stderr",
     "output_type": "stream",
     "text": [
      "Epoch 9/100: 100%|██████████| 205/205 [00:10<00:00, 18.71it/s, loss=7.69]\n",
      "Validation: 100%|██████████| 52/52 [00:00<00:00, 82.06it/s]\n"
     ]
    },
    {
     "name": "stdout",
     "output_type": "stream",
     "text": [
      "Epoch 9/100: Train Loss: 7.6885, Val Loss: 8.1374\n",
      "Val metrics: 0.12210012646391988\n"
     ]
    },
    {
     "name": "stderr",
     "output_type": "stream",
     "text": [
      "Epoch 10/100: 100%|██████████| 205/205 [00:12<00:00, 16.91it/s, loss=7.43]\n",
      "Validation: 100%|██████████| 52/52 [00:00<00:00, 74.55it/s]\n"
     ]
    },
    {
     "name": "stdout",
     "output_type": "stream",
     "text": [
      "Epoch 10/100: Train Loss: 7.4863, Val Loss: 7.9914\n",
      "Val metrics: 0.14245014172047377\n"
     ]
    },
    {
     "name": "stderr",
     "output_type": "stream",
     "text": [
      "Epoch 11/100: 100%|██████████| 205/205 [00:10<00:00, 20.24it/s, loss=7.15]\n",
      "Validation: 100%|██████████| 52/52 [00:00<00:00, 75.78it/s]\n"
     ]
    },
    {
     "name": "stdout",
     "output_type": "stream",
     "text": [
      "Epoch 11/100: Train Loss: 7.2779, Val Loss: 7.8389\n",
      "Val metrics: 0.18315018387511373\n"
     ]
    },
    {
     "name": "stderr",
     "output_type": "stream",
     "text": [
      "Epoch 12/100: 100%|██████████| 205/205 [00:10<00:00, 20.36it/s, loss=6.94]\n",
      "Validation: 100%|██████████| 52/52 [00:00<00:00, 93.51it/s]\n"
     ]
    },
    {
     "name": "stdout",
     "output_type": "stream",
     "text": [
      "Epoch 12/100: Train Loss: 7.0740, Val Loss: 7.6786\n",
      "Val metrics: 0.26455025654286146\n"
     ]
    },
    {
     "name": "stderr",
     "output_type": "stream",
     "text": [
      "Epoch 13/100: 100%|██████████| 205/205 [00:09<00:00, 22.77it/s, loss=6.73]\n",
      "Validation: 100%|██████████| 52/52 [00:00<00:00, 96.76it/s]\n"
     ]
    },
    {
     "name": "stdout",
     "output_type": "stream",
     "text": [
      "Epoch 13/100: Train Loss: 6.8707, Val Loss: 7.5162\n",
      "Val metrics: 0.3256003372371197\n"
     ]
    },
    {
     "name": "stderr",
     "output_type": "stream",
     "text": [
      "Epoch 14/100: 100%|██████████| 205/205 [00:08<00:00, 23.01it/s, loss=6.45]\n",
      "Validation: 100%|██████████| 52/52 [00:00<00:00, 82.60it/s]\n"
     ]
    },
    {
     "name": "stdout",
     "output_type": "stream",
     "text": [
      "Epoch 14/100: Train Loss: 6.6664, Val Loss: 7.3485\n",
      "Val metrics: 0.44770045205950737\n"
     ]
    },
    {
     "name": "stderr",
     "output_type": "stream",
     "text": [
      "Epoch 15/100: 100%|██████████| 205/205 [00:09<00:00, 22.50it/s, loss=6.28]\n",
      "Validation: 100%|██████████| 52/52 [00:00<00:00, 95.08it/s]\n"
     ]
    },
    {
     "name": "stdout",
     "output_type": "stream",
     "text": [
      "Epoch 15/100: Train Loss: 6.4613, Val Loss: 7.1749\n",
      "Val metrics: 0.5291005130857229\n"
     ]
    },
    {
     "name": "stderr",
     "output_type": "stream",
     "text": [
      "Epoch 16/100: 100%|██████████| 205/205 [00:08<00:00, 23.93it/s, loss=6.21]\n",
      "Validation: 100%|██████████| 52/52 [00:00<00:00, 96.05it/s] \n"
     ]
    },
    {
     "name": "stdout",
     "output_type": "stream",
     "text": [
      "Epoch 16/100: Train Loss: 6.2582, Val Loss: 6.9999\n",
      "Val metrics: 0.6919006817042828\n"
     ]
    },
    {
     "name": "stderr",
     "output_type": "stream",
     "text": [
      "Epoch 17/100: 100%|██████████| 205/205 [00:11<00:00, 18.47it/s, loss=6.06]\n",
      "Validation: 100%|██████████| 52/52 [00:00<00:00, 85.35it/s]\n"
     ]
    },
    {
     "name": "stdout",
     "output_type": "stream",
     "text": [
      "Epoch 17/100: Train Loss: 6.0565, Val Loss: 6.8238\n",
      "Val metrics: 0.9157509543001652\n"
     ]
    },
    {
     "name": "stderr",
     "output_type": "stream",
     "text": [
      "Epoch 18/100: 100%|██████████| 205/205 [00:12<00:00, 16.49it/s, loss=5.78]\n",
      "Validation: 100%|██████████| 52/52 [00:01<00:00, 44.45it/s]\n"
     ]
    },
    {
     "name": "stdout",
     "output_type": "stream",
     "text": [
      "Epoch 18/100: Train Loss: 5.8547, Val Loss: 6.6467\n",
      "Val metrics: 1.3838013634085655\n"
     ]
    },
    {
     "name": "stderr",
     "output_type": "stream",
     "text": [
      "Epoch 19/100: 100%|██████████| 205/205 [00:15<00:00, 13.52it/s, loss=5.63]\n",
      "Validation: 100%|██████████| 52/52 [00:00<00:00, 53.27it/s]\n"
     ]
    },
    {
     "name": "stdout",
     "output_type": "stream",
     "text": [
      "Epoch 19/100: Train Loss: 5.6598, Val Loss: 6.4697\n",
      "Val metrics: 1.7908018082380295\n"
     ]
    },
    {
     "name": "stderr",
     "output_type": "stream",
     "text": [
      "Epoch 20/100: 100%|██████████| 205/205 [00:14<00:00, 14.59it/s, loss=5.51]\n",
      "Validation: 100%|██████████| 52/52 [00:00<00:00, 66.11it/s]\n"
     ]
    },
    {
     "name": "stdout",
     "output_type": "stream",
     "text": [
      "Epoch 20/100: Train Loss: 5.4626, Val Loss: 6.2934\n",
      "Val metrics: 2.2588523104786873\n"
     ]
    },
    {
     "name": "stderr",
     "output_type": "stream",
     "text": [
      "Epoch 21/100: 100%|██████████| 205/205 [00:14<00:00, 13.76it/s, loss=5.23]\n",
      "Validation: 100%|██████████| 52/52 [00:00<00:00, 55.16it/s]\n"
     ]
    },
    {
     "name": "stdout",
     "output_type": "stream",
     "text": [
      "Epoch 21/100: Train Loss: 5.2659, Val Loss: 6.1181\n",
      "Val metrics: 2.706552669405937\n"
     ]
    },
    {
     "name": "stderr",
     "output_type": "stream",
     "text": [
      "Epoch 22/100: 100%|██████████| 205/205 [00:12<00:00, 16.29it/s, loss=4.86]\n",
      "Validation: 100%|██████████| 52/52 [00:00<00:00, 69.01it/s]\n"
     ]
    },
    {
     "name": "stdout",
     "output_type": "stream",
     "text": [
      "Epoch 22/100: Train Loss: 5.0802, Val Loss: 5.9483\n",
      "Val metrics: 3.4595035016536713\n"
     ]
    },
    {
     "name": "stderr",
     "output_type": "stream",
     "text": [
      "Epoch 23/100: 100%|██████████| 205/205 [00:14<00:00, 14.50it/s, loss=4.82]\n",
      "Validation: 100%|██████████| 52/52 [00:00<00:00, 61.81it/s]\n"
     ]
    },
    {
     "name": "stdout",
     "output_type": "stream",
     "text": [
      "Epoch 23/100: Train Loss: 4.8897, Val Loss: 5.7783\n",
      "Val metrics: 4.415954276919365\n"
     ]
    },
    {
     "name": "stderr",
     "output_type": "stream",
     "text": [
      "Epoch 24/100: 100%|██████████| 205/205 [00:11<00:00, 17.79it/s, loss=4.7] \n",
      "Validation: 100%|██████████| 52/52 [00:00<00:00, 67.68it/s]\n"
     ]
    },
    {
     "name": "stdout",
     "output_type": "stream",
     "text": [
      "Epoch 24/100: Train Loss: 4.7056, Val Loss: 5.6050\n",
      "Val metrics: 5.474155396223068\n"
     ]
    },
    {
     "name": "stderr",
     "output_type": "stream",
     "text": [
      "Epoch 25/100: 100%|██████████| 205/205 [00:11<00:00, 17.52it/s, loss=4.45]\n",
      "Validation: 100%|██████████| 52/52 [00:00<00:00, 68.12it/s]\n"
     ]
    },
    {
     "name": "stdout",
     "output_type": "stream",
     "text": [
      "Epoch 25/100: Train Loss: 4.5247, Val Loss: 5.4440\n",
      "Val metrics: 6.512006372213364\n"
     ]
    },
    {
     "name": "stderr",
     "output_type": "stream",
     "text": [
      "Epoch 26/100: 100%|██████████| 205/205 [00:11<00:00, 17.36it/s, loss=4.26]\n",
      "Validation: 100%|██████████| 52/52 [00:00<00:00, 71.77it/s]\n"
     ]
    },
    {
     "name": "stdout",
     "output_type": "stream",
     "text": [
      "Epoch 26/100: Train Loss: 4.3467, Val Loss: 5.2815\n",
      "Val metrics: 7.448107749223709\n"
     ]
    },
    {
     "name": "stderr",
     "output_type": "stream",
     "text": [
      "Epoch 27/100: 100%|██████████| 205/205 [00:10<00:00, 19.76it/s, loss=4.28]\n",
      "Validation: 100%|██████████| 52/52 [00:00<00:00, 81.49it/s]\n"
     ]
    },
    {
     "name": "stdout",
     "output_type": "stream",
     "text": [
      "Epoch 27/100: Train Loss: 4.1709, Val Loss: 5.1237\n",
      "Val metrics: 8.689458668231964\n"
     ]
    },
    {
     "name": "stderr",
     "output_type": "stream",
     "text": [
      "Epoch 28/100: 100%|██████████| 205/205 [00:09<00:00, 20.76it/s, loss=3.98]\n",
      "Validation: 100%|██████████| 52/52 [00:00<00:00, 92.81it/s]\n"
     ]
    },
    {
     "name": "stdout",
     "output_type": "stream",
     "text": [
      "Epoch 28/100: Train Loss: 4.0054, Val Loss: 4.9715\n",
      "Val metrics: 9.82905998826027\n"
     ]
    },
    {
     "name": "stderr",
     "output_type": "stream",
     "text": [
      "Epoch 29/100: 100%|██████████| 205/205 [00:09<00:00, 20.59it/s, loss=3.69]\n",
      "Validation: 100%|██████████| 52/52 [00:00<00:00, 72.99it/s]\n"
     ]
    },
    {
     "name": "stdout",
     "output_type": "stream",
     "text": [
      "Epoch 29/100: Train Loss: 3.8388, Val Loss: 4.8191\n",
      "Val metrics: 11.59951165318489\n"
     ]
    },
    {
     "name": "stderr",
     "output_type": "stream",
     "text": [
      "Epoch 30/100: 100%|██████████| 205/205 [00:09<00:00, 20.71it/s, loss=3.64]\n",
      "Validation: 100%|██████████| 52/52 [00:00<00:00, 72.50it/s]\n"
     ]
    },
    {
     "name": "stdout",
     "output_type": "stream",
     "text": [
      "Epoch 30/100: Train Loss: 3.6798, Val Loss: 4.6758\n",
      "Val metrics: 12.678062915802002\n"
     ]
    },
    {
     "name": "stderr",
     "output_type": "stream",
     "text": [
      "Epoch 31/100: 100%|██████████| 205/205 [00:11<00:00, 17.62it/s, loss=3.63]\n",
      "Validation: 100%|██████████| 52/52 [00:00<00:00, 80.99it/s]\n"
     ]
    },
    {
     "name": "stdout",
     "output_type": "stream",
     "text": [
      "Epoch 31/100: Train Loss: 3.5215, Val Loss: 4.5295\n",
      "Val metrics: 14.652015268802643\n"
     ]
    },
    {
     "name": "stderr",
     "output_type": "stream",
     "text": [
      "Epoch 32/100: 100%|██████████| 205/205 [00:09<00:00, 22.32it/s, loss=3.28]\n",
      "Validation: 100%|██████████| 52/52 [00:00<00:00, 97.85it/s] \n"
     ]
    },
    {
     "name": "stdout",
     "output_type": "stream",
     "text": [
      "Epoch 32/100: Train Loss: 3.3686, Val Loss: 4.3865\n",
      "Val metrics: 16.97191745042801\n"
     ]
    },
    {
     "name": "stderr",
     "output_type": "stream",
     "text": [
      "Epoch 33/100: 100%|██████████| 205/205 [00:09<00:00, 21.13it/s, loss=3.17]\n",
      "Validation: 100%|██████████| 52/52 [00:00<00:00, 89.62it/s]\n"
     ]
    },
    {
     "name": "stdout",
     "output_type": "stream",
     "text": [
      "Epoch 33/100: Train Loss: 3.2188, Val Loss: 4.2555\n",
      "Val metrics: 19.45461928844452\n"
     ]
    },
    {
     "name": "stderr",
     "output_type": "stream",
     "text": [
      "Epoch 34/100: 100%|██████████| 205/205 [00:09<00:00, 20.93it/s, loss=3.05]\n",
      "Validation: 100%|██████████| 52/52 [00:00<00:00, 92.18it/s]\n"
     ]
    },
    {
     "name": "stdout",
     "output_type": "stream",
     "text": [
      "Epoch 34/100: Train Loss: 3.0728, Val Loss: 4.1276\n",
      "Val metrics: 22.40537256002426\n"
     ]
    },
    {
     "name": "stderr",
     "output_type": "stream",
     "text": [
      "Epoch 35/100: 100%|██████████| 205/205 [00:09<00:00, 21.48it/s, loss=2.77]\n",
      "Validation: 100%|██████████| 52/52 [00:00<00:00, 88.09it/s]\n"
     ]
    },
    {
     "name": "stdout",
     "output_type": "stream",
     "text": [
      "Epoch 35/100: Train Loss: 2.9289, Val Loss: 4.0084\n",
      "Val metrics: 25.437524914741516\n"
     ]
    },
    {
     "name": "stderr",
     "output_type": "stream",
     "text": [
      "Epoch 36/100: 100%|██████████| 205/205 [00:09<00:00, 21.06it/s, loss=2.85]\n",
      "Validation: 100%|██████████| 52/52 [00:00<00:00, 79.30it/s]\n"
     ]
    },
    {
     "name": "stdout",
     "output_type": "stream",
     "text": [
      "Epoch 36/100: Train Loss: 2.7939, Val Loss: 3.8955\n",
      "Val metrics: 28.428977727890015\n"
     ]
    },
    {
     "name": "stderr",
     "output_type": "stream",
     "text": [
      "Epoch 37/100: 100%|██████████| 205/205 [00:09<00:00, 20.56it/s, loss=2.77]\n",
      "Validation: 100%|██████████| 52/52 [00:00<00:00, 81.16it/s]\n"
     ]
    },
    {
     "name": "stdout",
     "output_type": "stream",
     "text": [
      "Epoch 37/100: Train Loss: 2.6632, Val Loss: 3.7880\n",
      "Val metrics: 30.423280596733093\n"
     ]
    },
    {
     "name": "stderr",
     "output_type": "stream",
     "text": [
      "Epoch 38/100: 100%|██████████| 205/205 [00:09<00:00, 21.35it/s, loss=2.51]\n",
      "Validation: 100%|██████████| 52/52 [00:00<00:00, 71.22it/s]\n"
     ]
    },
    {
     "name": "stdout",
     "output_type": "stream",
     "text": [
      "Epoch 38/100: Train Loss: 2.5325, Val Loss: 3.6832\n",
      "Val metrics: 33.21123421192169\n"
     ]
    },
    {
     "name": "stderr",
     "output_type": "stream",
     "text": [
      "Epoch 39/100: 100%|██████████| 205/205 [00:10<00:00, 18.73it/s, loss=2.27]\n",
      "Validation: 100%|██████████| 52/52 [00:00<00:00, 88.37it/s]\n"
     ]
    },
    {
     "name": "stdout",
     "output_type": "stream",
     "text": [
      "Epoch 39/100: Train Loss: 2.4130, Val Loss: 3.5847\n",
      "Val metrics: 35.368335247039795\n"
     ]
    },
    {
     "name": "stderr",
     "output_type": "stream",
     "text": [
      "Epoch 40/100: 100%|██████████| 205/205 [00:09<00:00, 21.12it/s, loss=2.48]\n",
      "Validation: 100%|██████████| 52/52 [00:00<00:00, 76.78it/s]\n"
     ]
    },
    {
     "name": "stdout",
     "output_type": "stream",
     "text": [
      "Epoch 40/100: Train Loss: 2.2963, Val Loss: 3.4956\n",
      "Val metrics: 37.342286109924316\n"
     ]
    },
    {
     "name": "stderr",
     "output_type": "stream",
     "text": [
      "Epoch 41/100: 100%|██████████| 205/205 [00:11<00:00, 18.27it/s, loss=2.2] \n",
      "Validation: 100%|██████████| 52/52 [00:00<00:00, 78.10it/s]\n"
     ]
    },
    {
     "name": "stdout",
     "output_type": "stream",
     "text": [
      "Epoch 41/100: Train Loss: 2.1851, Val Loss: 3.4066\n",
      "Val metrics: 39.86569046974182\n"
     ]
    },
    {
     "name": "stderr",
     "output_type": "stream",
     "text": [
      "Epoch 42/100: 100%|██████████| 205/205 [00:10<00:00, 18.74it/s, loss=1.97]\n",
      "Validation: 100%|██████████| 52/52 [00:00<00:00, 67.03it/s]\n"
     ]
    },
    {
     "name": "stdout",
     "output_type": "stream",
     "text": [
      "Epoch 42/100: Train Loss: 2.0667, Val Loss: 3.3164\n",
      "Val metrics: 42.714694142341614\n"
     ]
    },
    {
     "name": "stderr",
     "output_type": "stream",
     "text": [
      "Epoch 43/100: 100%|██████████| 205/205 [00:09<00:00, 21.01it/s, loss=2]   \n",
      "Validation: 100%|██████████| 52/52 [00:00<00:00, 85.47it/s]\n"
     ]
    },
    {
     "name": "stdout",
     "output_type": "stream",
     "text": [
      "Epoch 43/100: Train Loss: 1.9602, Val Loss: 3.2295\n",
      "Val metrics: 45.177045464515686\n"
     ]
    },
    {
     "name": "stderr",
     "output_type": "stream",
     "text": [
      "Epoch 44/100: 100%|██████████| 205/205 [00:10<00:00, 19.73it/s, loss=1.87]\n",
      "Validation: 100%|██████████| 52/52 [00:00<00:00, 68.15it/s]\n"
     ]
    },
    {
     "name": "stdout",
     "output_type": "stream",
     "text": [
      "Epoch 44/100: Train Loss: 1.8592, Val Loss: 3.1411\n",
      "Val metrics: 48.453399538993835\n"
     ]
    },
    {
     "name": "stderr",
     "output_type": "stream",
     "text": [
      "Epoch 45/100: 100%|██████████| 205/205 [00:09<00:00, 22.14it/s, loss=1.79]\n",
      "Validation: 100%|██████████| 52/52 [00:00<00:00, 91.42it/s]\n"
     ]
    },
    {
     "name": "stdout",
     "output_type": "stream",
     "text": [
      "Epoch 45/100: Train Loss: 1.7542, Val Loss: 3.0631\n",
      "Val metrics: 51.09890103340149\n"
     ]
    },
    {
     "name": "stderr",
     "output_type": "stream",
     "text": [
      "Epoch 46/100: 100%|██████████| 205/205 [00:09<00:00, 22.13it/s, loss=1.58]\n",
      "Validation: 100%|██████████| 52/52 [00:00<00:00, 92.69it/s]\n"
     ]
    },
    {
     "name": "stdout",
     "output_type": "stream",
     "text": [
      "Epoch 46/100: Train Loss: 1.6523, Val Loss: 2.9801\n",
      "Val metrics: 53.86650562286377\n"
     ]
    },
    {
     "name": "stderr",
     "output_type": "stream",
     "text": [
      "Epoch 47/100: 100%|██████████| 205/205 [00:09<00:00, 21.72it/s, loss=1.62]\n",
      "Validation: 100%|██████████| 52/52 [00:00<00:00, 81.89it/s]\n"
     ]
    },
    {
     "name": "stdout",
     "output_type": "stream",
     "text": [
      "Epoch 47/100: Train Loss: 1.5558, Val Loss: 2.9035\n",
      "Val metrics: 56.24745488166809\n"
     ]
    },
    {
     "name": "stderr",
     "output_type": "stream",
     "text": [
      "Epoch 48/100: 100%|██████████| 205/205 [00:09<00:00, 21.14it/s, loss=1.51]\n",
      "Validation: 100%|██████████| 52/52 [00:00<00:00, 88.53it/s]\n"
     ]
    },
    {
     "name": "stdout",
     "output_type": "stream",
     "text": [
      "Epoch 48/100: Train Loss: 1.4601, Val Loss: 2.8286\n",
      "Val metrics: 58.9133083820343\n"
     ]
    },
    {
     "name": "stderr",
     "output_type": "stream",
     "text": [
      "Epoch 49/100: 100%|██████████| 205/205 [00:11<00:00, 18.43it/s, loss=1.3] \n",
      "Validation: 100%|██████████| 52/52 [00:00<00:00, 72.13it/s]\n"
     ]
    },
    {
     "name": "stdout",
     "output_type": "stream",
     "text": [
      "Epoch 49/100: Train Loss: 1.3698, Val Loss: 2.7556\n",
      "Val metrics: 60.785508155822754\n"
     ]
    },
    {
     "name": "stderr",
     "output_type": "stream",
     "text": [
      "Epoch 50/100: 100%|██████████| 205/205 [00:11<00:00, 18.43it/s, loss=1.3] \n",
      "Validation: 100%|██████████| 52/52 [00:00<00:00, 73.87it/s]\n"
     ]
    },
    {
     "name": "stdout",
     "output_type": "stream",
     "text": [
      "Epoch 50/100: Train Loss: 1.2817, Val Loss: 2.6851\n",
      "Val metrics: 63.61416578292847\n"
     ]
    },
    {
     "name": "stderr",
     "output_type": "stream",
     "text": [
      "Epoch 51/100: 100%|██████████| 205/205 [00:10<00:00, 19.23it/s, loss=1.15]\n",
      "Validation: 100%|██████████| 52/52 [00:00<00:00, 76.60it/s]\n"
     ]
    },
    {
     "name": "stdout",
     "output_type": "stream",
     "text": [
      "Epoch 51/100: Train Loss: 1.1927, Val Loss: 2.6188\n",
      "Val metrics: 66.76841974258423\n"
     ]
    },
    {
     "name": "stderr",
     "output_type": "stream",
     "text": [
      "Epoch 52/100: 100%|██████████| 205/205 [00:10<00:00, 19.04it/s, loss=1.09] \n",
      "Validation: 100%|██████████| 52/52 [00:00<00:00, 76.12it/s]\n"
     ]
    },
    {
     "name": "stdout",
     "output_type": "stream",
     "text": [
      "Epoch 52/100: Train Loss: 1.1097, Val Loss: 2.5488\n",
      "Val metrics: 69.02726888656616\n"
     ]
    },
    {
     "name": "stderr",
     "output_type": "stream",
     "text": [
      "Epoch 53/100: 100%|██████████| 205/205 [00:10<00:00, 18.94it/s, loss=1.02] \n",
      "Validation: 100%|██████████| 52/52 [00:00<00:00, 76.92it/s]\n"
     ]
    },
    {
     "name": "stdout",
     "output_type": "stream",
     "text": [
      "Epoch 53/100: Train Loss: 1.0304, Val Loss: 2.4837\n",
      "Val metrics: 71.00121974945068\n"
     ]
    },
    {
     "name": "stderr",
     "output_type": "stream",
     "text": [
      "Epoch 54/100: 100%|██████████| 205/205 [00:11<00:00, 18.48it/s, loss=0.975]\n",
      "Validation: 100%|██████████| 52/52 [00:00<00:00, 81.62it/s]\n"
     ]
    },
    {
     "name": "stdout",
     "output_type": "stream",
     "text": [
      "Epoch 54/100: Train Loss: 0.9575, Val Loss: 2.4251\n",
      "Val metrics: 72.58852124214172\n"
     ]
    },
    {
     "name": "stderr",
     "output_type": "stream",
     "text": [
      "Epoch 55/100: 100%|██████████| 205/205 [00:09<00:00, 21.34it/s, loss=0.869]\n",
      "Validation: 100%|██████████| 52/52 [00:00<00:00, 70.43it/s]\n"
     ]
    },
    {
     "name": "stdout",
     "output_type": "stream",
     "text": [
      "Epoch 55/100: Train Loss: 0.8797, Val Loss: 2.3700\n",
      "Val metrics: 73.68742227554321\n"
     ]
    },
    {
     "name": "stderr",
     "output_type": "stream",
     "text": [
      "Epoch 56/100: 100%|██████████| 205/205 [00:10<00:00, 19.63it/s, loss=0.779]\n",
      "Validation: 100%|██████████| 52/52 [00:00<00:00, 70.07it/s]\n"
     ]
    },
    {
     "name": "stdout",
     "output_type": "stream",
     "text": [
      "Epoch 56/100: Train Loss: 0.8114, Val Loss: 2.3140\n",
      "Val metrics: 75.47822594642639\n"
     ]
    },
    {
     "name": "stderr",
     "output_type": "stream",
     "text": [
      "Epoch 57/100: 100%|██████████| 205/205 [00:10<00:00, 19.02it/s, loss=0.726]\n",
      "Validation: 100%|██████████| 52/52 [00:00<00:00, 74.16it/s]\n"
     ]
    },
    {
     "name": "stdout",
     "output_type": "stream",
     "text": [
      "Epoch 57/100: Train Loss: 0.7433, Val Loss: 2.2602\n",
      "Val metrics: 77.04517841339111\n"
     ]
    },
    {
     "name": "stderr",
     "output_type": "stream",
     "text": [
      "Epoch 58/100: 100%|██████████| 205/205 [00:11<00:00, 18.23it/s, loss=0.614]\n",
      "Validation: 100%|██████████| 52/52 [00:00<00:00, 76.15it/s]\n"
     ]
    },
    {
     "name": "stdout",
     "output_type": "stream",
     "text": [
      "Epoch 58/100: Train Loss: 0.6797, Val Loss: 2.2127\n",
      "Val metrics: 78.12373042106628\n"
     ]
    },
    {
     "name": "stderr",
     "output_type": "stream",
     "text": [
      "Epoch 59/100: 100%|██████████| 205/205 [00:10<00:00, 18.86it/s, loss=0.645]\n",
      "Validation: 100%|██████████| 52/52 [00:00<00:00, 68.46it/s]\n"
     ]
    },
    {
     "name": "stdout",
     "output_type": "stream",
     "text": [
      "Epoch 59/100: Train Loss: 0.6205, Val Loss: 2.1606\n",
      "Val metrics: 79.58893179893494\n"
     ]
    },
    {
     "name": "stderr",
     "output_type": "stream",
     "text": [
      "Epoch 60/100: 100%|██████████| 205/205 [00:11<00:00, 18.52it/s, loss=0.498]\n",
      "Validation: 100%|██████████| 52/52 [00:00<00:00, 72.55it/s]\n"
     ]
    },
    {
     "name": "stdout",
     "output_type": "stream",
     "text": [
      "Epoch 60/100: Train Loss: 0.5672, Val Loss: 2.1194\n",
      "Val metrics: 80.66747784614563\n"
     ]
    },
    {
     "name": "stderr",
     "output_type": "stream",
     "text": [
      "Epoch 61/100: 100%|██████████| 205/205 [00:10<00:00, 19.58it/s, loss=0.505]\n",
      "Validation: 100%|██████████| 52/52 [00:00<00:00, 78.06it/s]\n"
     ]
    },
    {
     "name": "stdout",
     "output_type": "stream",
     "text": [
      "Epoch 61/100: Train Loss: 0.5170, Val Loss: 2.0798\n",
      "Val metrics: 81.96988105773926\n"
     ]
    },
    {
     "name": "stderr",
     "output_type": "stream",
     "text": [
      "Epoch 62/100: 100%|██████████| 205/205 [00:10<00:00, 20.01it/s, loss=0.415]\n",
      "Validation: 100%|██████████| 52/52 [00:00<00:00, 76.09it/s]\n"
     ]
    },
    {
     "name": "stdout",
     "output_type": "stream",
     "text": [
      "Epoch 62/100: Train Loss: 0.4657, Val Loss: 2.0405\n",
      "Val metrics: 83.17053318023682\n"
     ]
    },
    {
     "name": "stderr",
     "output_type": "stream",
     "text": [
      "Epoch 63/100: 100%|██████████| 205/205 [00:10<00:00, 20.18it/s, loss=0.353]\n",
      "Validation: 100%|██████████| 52/52 [00:00<00:00, 81.01it/s]\n"
     ]
    },
    {
     "name": "stdout",
     "output_type": "stream",
     "text": [
      "Epoch 63/100: Train Loss: 0.4210, Val Loss: 2.0137\n",
      "Val metrics: 83.61823558807373\n"
     ]
    },
    {
     "name": "stderr",
     "output_type": "stream",
     "text": [
      "Epoch 64/100: 100%|██████████| 205/205 [00:10<00:00, 19.21it/s, loss=0.447]\n",
      "Validation: 100%|██████████| 52/52 [00:00<00:00, 73.38it/s]\n"
     ]
    },
    {
     "name": "stdout",
     "output_type": "stream",
     "text": [
      "Epoch 64/100: Train Loss: 0.3811, Val Loss: 1.9861\n",
      "Val metrics: 84.3915343284607\n"
     ]
    },
    {
     "name": "stderr",
     "output_type": "stream",
     "text": [
      "Epoch 65/100: 100%|██████████| 205/205 [00:10<00:00, 19.04it/s, loss=0.391]\n",
      "Validation: 100%|██████████| 52/52 [00:00<00:00, 70.29it/s]\n"
     ]
    },
    {
     "name": "stdout",
     "output_type": "stream",
     "text": [
      "Epoch 65/100: Train Loss: 0.3430, Val Loss: 1.9587\n",
      "Val metrics: 85.1037859916687\n"
     ]
    },
    {
     "name": "stderr",
     "output_type": "stream",
     "text": [
      "Epoch 66/100: 100%|██████████| 205/205 [00:10<00:00, 18.76it/s, loss=0.298]\n",
      "Validation: 100%|██████████| 52/52 [00:00<00:00, 79.37it/s]\n"
     ]
    },
    {
     "name": "stdout",
     "output_type": "stream",
     "text": [
      "Epoch 66/100: Train Loss: 0.3062, Val Loss: 1.9365\n",
      "Val metrics: 85.61253547668457\n"
     ]
    },
    {
     "name": "stderr",
     "output_type": "stream",
     "text": [
      "Epoch 67/100: 100%|██████████| 205/205 [00:10<00:00, 18.74it/s, loss=0.227]\n",
      "Validation: 100%|██████████| 52/52 [00:00<00:00, 74.84it/s]\n"
     ]
    },
    {
     "name": "stdout",
     "output_type": "stream",
     "text": [
      "Epoch 67/100: Train Loss: 0.2745, Val Loss: 1.9149\n",
      "Val metrics: 86.14163398742676\n"
     ]
    },
    {
     "name": "stderr",
     "output_type": "stream",
     "text": [
      "Epoch 68/100: 100%|██████████| 205/205 [00:11<00:00, 18.36it/s, loss=0.256]\n",
      "Validation: 100%|██████████| 52/52 [00:00<00:00, 87.13it/s]\n"
     ]
    },
    {
     "name": "stdout",
     "output_type": "stream",
     "text": [
      "Epoch 68/100: Train Loss: 0.2458, Val Loss: 1.8962\n",
      "Val metrics: 86.40618920326233\n"
     ]
    },
    {
     "name": "stderr",
     "output_type": "stream",
     "text": [
      "Epoch 69/100: 100%|██████████| 205/205 [00:08<00:00, 23.50it/s, loss=0.234]\n",
      "Validation: 100%|██████████| 52/52 [00:00<00:00, 95.11it/s]\n"
     ]
    },
    {
     "name": "stdout",
     "output_type": "stream",
     "text": [
      "Epoch 69/100: Train Loss: 0.2207, Val Loss: 1.8728\n",
      "Val metrics: 87.52543926239014\n"
     ]
    },
    {
     "name": "stderr",
     "output_type": "stream",
     "text": [
      "Epoch 70/100: 100%|██████████| 205/205 [00:09<00:00, 22.23it/s, loss=0.21] \n",
      "Validation: 100%|██████████| 52/52 [00:00<00:00, 84.11it/s]\n"
     ]
    },
    {
     "name": "stdout",
     "output_type": "stream",
     "text": [
      "Epoch 70/100: Train Loss: 0.1990, Val Loss: 1.8669\n",
      "Val metrics: 87.60683536529541\n"
     ]
    },
    {
     "name": "stderr",
     "output_type": "stream",
     "text": [
      "Epoch 71/100: 100%|██████████| 205/205 [00:09<00:00, 21.16it/s, loss=0.162]\n",
      "Validation: 100%|██████████| 52/52 [00:00<00:00, 75.54it/s]\n"
     ]
    },
    {
     "name": "stdout",
     "output_type": "stream",
     "text": [
      "Epoch 71/100: Train Loss: 0.1753, Val Loss: 1.8590\n",
      "Val metrics: 87.81033754348755\n"
     ]
    },
    {
     "name": "stderr",
     "output_type": "stream",
     "text": [
      "Epoch 72/100: 100%|██████████| 205/205 [00:10<00:00, 19.05it/s, loss=0.148]\n",
      "Validation: 100%|██████████| 52/52 [00:00<00:00, 67.60it/s]\n"
     ]
    },
    {
     "name": "stdout",
     "output_type": "stream",
     "text": [
      "Epoch 72/100: Train Loss: 0.1553, Val Loss: 1.8537\n",
      "Val metrics: 88.01383972167969\n"
     ]
    },
    {
     "name": "stderr",
     "output_type": "stream",
     "text": [
      "Epoch 73/100: 100%|██████████| 205/205 [00:09<00:00, 21.00it/s, loss=0.11] \n",
      "Validation: 100%|██████████| 52/52 [00:00<00:00, 91.03it/s]\n"
     ]
    },
    {
     "name": "stdout",
     "output_type": "stream",
     "text": [
      "Epoch 73/100: Train Loss: 0.1389, Val Loss: 1.8481\n",
      "Val metrics: 88.23769092559814\n"
     ]
    },
    {
     "name": "stderr",
     "output_type": "stream",
     "text": [
      "Epoch 74/100: 100%|██████████| 205/205 [00:10<00:00, 20.35it/s, loss=0.131] \n",
      "Validation: 100%|██████████| 52/52 [00:00<00:00, 90.93it/s]\n"
     ]
    },
    {
     "name": "stdout",
     "output_type": "stream",
     "text": [
      "Epoch 74/100: Train Loss: 0.1224, Val Loss: 1.8424\n",
      "Val metrics: 88.64468932151794\n"
     ]
    },
    {
     "name": "stderr",
     "output_type": "stream",
     "text": [
      "Epoch 75/100: 100%|██████████| 205/205 [00:10<00:00, 18.84it/s, loss=0.0837]\n",
      "Validation: 100%|██████████| 52/52 [00:00<00:00, 68.85it/s]\n"
     ]
    },
    {
     "name": "stdout",
     "output_type": "stream",
     "text": [
      "Epoch 75/100: Train Loss: 0.1094, Val Loss: 1.8387\n",
      "Val metrics: 88.99064064025879\n"
     ]
    },
    {
     "name": "stderr",
     "output_type": "stream",
     "text": [
      "Epoch 76/100: 100%|██████████| 205/205 [00:10<00:00, 20.39it/s, loss=0.115] \n",
      "Validation: 100%|██████████| 52/52 [00:00<00:00, 92.33it/s]\n"
     ]
    },
    {
     "name": "stdout",
     "output_type": "stream",
     "text": [
      "Epoch 76/100: Train Loss: 0.0995, Val Loss: 1.8470\n",
      "Val metrics: 88.84819149971008\n"
     ]
    },
    {
     "name": "stderr",
     "output_type": "stream",
     "text": [
      "Epoch 77/100: 100%|██████████| 205/205 [00:09<00:00, 22.12it/s, loss=0.0777]\n",
      "Validation: 100%|██████████| 52/52 [00:00<00:00, 90.50it/s]\n"
     ]
    },
    {
     "name": "stdout",
     "output_type": "stream",
     "text": [
      "Epoch 77/100: Train Loss: 0.0875, Val Loss: 1.8576\n",
      "Val metrics: 89.1330897808075\n"
     ]
    },
    {
     "name": "stderr",
     "output_type": "stream",
     "text": [
      "Epoch 78/100: 100%|██████████| 205/205 [00:09<00:00, 22.46it/s, loss=0.072] \n",
      "Validation: 100%|██████████| 52/52 [00:00<00:00, 95.29it/s]\n"
     ]
    },
    {
     "name": "stdout",
     "output_type": "stream",
     "text": [
      "Epoch 78/100: Train Loss: 0.0780, Val Loss: 1.8624\n",
      "Val metrics: 88.99064064025879\n"
     ]
    },
    {
     "name": "stderr",
     "output_type": "stream",
     "text": [
      "Epoch 79/100: 100%|██████████| 205/205 [00:08<00:00, 23.04it/s, loss=0.0704]\n",
      "Validation: 100%|██████████| 52/52 [00:00<00:00, 89.38it/s]\n"
     ]
    },
    {
     "name": "stdout",
     "output_type": "stream",
     "text": [
      "Epoch 79/100: Train Loss: 0.0695, Val Loss: 1.8651\n",
      "Val metrics: 89.19413685798645\n"
     ]
    },
    {
     "name": "stderr",
     "output_type": "stream",
     "text": [
      "Epoch 80/100: 100%|██████████| 205/205 [00:08<00:00, 23.40it/s, loss=0.0737]\n",
      "Validation: 100%|██████████| 52/52 [00:00<00:00, 94.46it/s]\n"
     ]
    },
    {
     "name": "stdout",
     "output_type": "stream",
     "text": [
      "Epoch 80/100: Train Loss: 0.0617, Val Loss: 1.8684\n",
      "Val metrics: 89.45869207382202\n"
     ]
    },
    {
     "name": "stderr",
     "output_type": "stream",
     "text": [
      "Epoch 81/100: 100%|██████████| 205/205 [00:09<00:00, 21.05it/s, loss=0.0481]\n",
      "Validation: 100%|██████████| 52/52 [00:00<00:00, 71.02it/s]\n"
     ]
    },
    {
     "name": "stdout",
     "output_type": "stream",
     "text": [
      "Epoch 81/100: Train Loss: 0.0562, Val Loss: 1.8700\n",
      "Val metrics: 89.62149024009705\n"
     ]
    },
    {
     "name": "stderr",
     "output_type": "stream",
     "text": [
      "Epoch 82/100: 100%|██████████| 205/205 [00:10<00:00, 19.93it/s, loss=0.0699]\n",
      "Validation: 100%|██████████| 52/52 [00:00<00:00, 61.65it/s]\n"
     ]
    },
    {
     "name": "stdout",
     "output_type": "stream",
     "text": [
      "Epoch 82/100: Train Loss: 0.0494, Val Loss: 1.8846\n",
      "Val metrics: 89.90638852119446\n"
     ]
    },
    {
     "name": "stderr",
     "output_type": "stream",
     "text": [
      "Epoch 83/100: 100%|██████████| 205/205 [00:10<00:00, 19.92it/s, loss=0.0356]\n",
      "Validation: 100%|██████████| 52/52 [00:00<00:00, 88.62it/s]\n"
     ]
    },
    {
     "name": "stdout",
     "output_type": "stream",
     "text": [
      "Epoch 83/100: Train Loss: 0.0440, Val Loss: 1.8896\n",
      "Val metrics: 89.96744155883789\n"
     ]
    },
    {
     "name": "stderr",
     "output_type": "stream",
     "text": [
      "Epoch 84/100: 100%|██████████| 205/205 [00:08<00:00, 23.58it/s, loss=0.0242]\n",
      "Validation: 100%|██████████| 52/52 [00:00<00:00, 91.29it/s]\n"
     ]
    },
    {
     "name": "stdout",
     "output_type": "stream",
     "text": [
      "Epoch 84/100: Train Loss: 0.0400, Val Loss: 1.8911\n",
      "Val metrics: 90.47619104385376\n"
     ]
    },
    {
     "name": "stderr",
     "output_type": "stream",
     "text": [
      "Epoch 85/100: 100%|██████████| 205/205 [00:09<00:00, 20.82it/s, loss=0.0748]\n",
      "Validation: 100%|██████████| 52/52 [00:00<00:00, 66.79it/s]\n"
     ]
    },
    {
     "name": "stdout",
     "output_type": "stream",
     "text": [
      "Epoch 85/100: Train Loss: 0.0353, Val Loss: 1.9010\n",
      "Val metrics: 90.39478898048401\n"
     ]
    },
    {
     "name": "stderr",
     "output_type": "stream",
     "text": [
      "Epoch 86/100: 100%|██████████| 205/205 [00:10<00:00, 18.76it/s, loss=0.0294]\n",
      "Validation: 100%|██████████| 52/52 [00:00<00:00, 80.41it/s]\n"
     ]
    },
    {
     "name": "stdout",
     "output_type": "stream",
     "text": [
      "Epoch 86/100: Train Loss: 0.0323, Val Loss: 1.9092\n",
      "Val metrics: 90.63898921012878\n"
     ]
    },
    {
     "name": "stderr",
     "output_type": "stream",
     "text": [
      "Epoch 87/100: 100%|██████████| 205/205 [00:10<00:00, 19.78it/s, loss=0.0253]\n",
      "Validation: 100%|██████████| 52/52 [00:00<00:00, 72.60it/s]\n"
     ]
    },
    {
     "name": "stdout",
     "output_type": "stream",
     "text": [
      "Epoch 87/100: Train Loss: 0.0289, Val Loss: 1.9139\n",
      "Val metrics: 90.88318943977356\n"
     ]
    },
    {
     "name": "stderr",
     "output_type": "stream",
     "text": [
      "Epoch 88/100: 100%|██████████| 205/205 [00:09<00:00, 20.51it/s, loss=0.0286]\n",
      "Validation: 100%|██████████| 52/52 [00:00<00:00, 81.11it/s]\n"
     ]
    },
    {
     "name": "stdout",
     "output_type": "stream",
     "text": [
      "Epoch 88/100: Train Loss: 0.0264, Val Loss: 1.9277\n",
      "Val metrics: 90.6593382358551\n"
     ]
    },
    {
     "name": "stderr",
     "output_type": "stream",
     "text": [
      "Epoch 89/100: 100%|██████████| 205/205 [00:09<00:00, 21.04it/s, loss=0.0232]\n",
      "Validation: 100%|██████████| 52/52 [00:00<00:00, 82.70it/s]\n"
     ]
    },
    {
     "name": "stdout",
     "output_type": "stream",
     "text": [
      "Epoch 89/100: Train Loss: 0.0246, Val Loss: 1.9362\n",
      "Val metrics: 90.63898921012878\n"
     ]
    },
    {
     "name": "stderr",
     "output_type": "stream",
     "text": [
      "Epoch 90/100: 100%|██████████| 205/205 [00:10<00:00, 20.48it/s, loss=0.0251]\n",
      "Validation: 100%|██████████| 52/52 [00:00<00:00, 70.62it/s]\n"
     ]
    },
    {
     "name": "stdout",
     "output_type": "stream",
     "text": [
      "Epoch 90/100: Train Loss: 0.0220, Val Loss: 1.9464\n",
      "Val metrics: 90.70004224777222\n"
     ]
    },
    {
     "name": "stderr",
     "output_type": "stream",
     "text": [
      "Epoch 91/100: 100%|██████████| 205/205 [00:11<00:00, 17.77it/s, loss=0.0259] \n",
      "Validation: 100%|██████████| 52/52 [00:00<00:00, 68.05it/s]\n"
     ]
    },
    {
     "name": "stdout",
     "output_type": "stream",
     "text": [
      "Epoch 91/100: Train Loss: 0.0200, Val Loss: 1.9615\n",
      "Val metrics: 90.45584201812744\n"
     ]
    },
    {
     "name": "stderr",
     "output_type": "stream",
     "text": [
      "Epoch 92/100: 100%|██████████| 205/205 [00:10<00:00, 19.72it/s, loss=0.0161]\n",
      "Validation: 100%|██████████| 52/52 [00:00<00:00, 77.08it/s]\n"
     ]
    },
    {
     "name": "stdout",
     "output_type": "stream",
     "text": [
      "Epoch 92/100: Train Loss: 0.0185, Val Loss: 1.9661\n",
      "Val metrics: 90.92389345169067\n"
     ]
    },
    {
     "name": "stderr",
     "output_type": "stream",
     "text": [
      "Epoch 93/100: 100%|██████████| 205/205 [00:10<00:00, 19.22it/s, loss=0.0263] \n",
      "Validation: 100%|██████████| 52/52 [00:00<00:00, 72.47it/s]\n"
     ]
    },
    {
     "name": "stdout",
     "output_type": "stream",
     "text": [
      "Epoch 93/100: Train Loss: 0.0170, Val Loss: 1.9797\n",
      "Val metrics: 90.86284041404724\n"
     ]
    },
    {
     "name": "stderr",
     "output_type": "stream",
     "text": [
      "Epoch 94/100: 100%|██████████| 205/205 [00:10<00:00, 18.83it/s, loss=0.0169] \n",
      "Validation: 100%|██████████| 52/52 [00:00<00:00, 74.46it/s]\n"
     ]
    },
    {
     "name": "stdout",
     "output_type": "stream",
     "text": [
      "Epoch 94/100: Train Loss: 0.0161, Val Loss: 1.9802\n",
      "Val metrics: 91.10704064369202\n"
     ]
    },
    {
     "name": "stderr",
     "output_type": "stream",
     "text": [
      "Epoch 95/100: 100%|██████████| 205/205 [00:10<00:00, 19.95it/s, loss=0.0137] \n",
      "Validation: 100%|██████████| 52/52 [00:00<00:00, 77.37it/s]\n"
     ]
    },
    {
     "name": "stdout",
     "output_type": "stream",
     "text": [
      "Epoch 95/100: Train Loss: 0.0150, Val Loss: 1.9873\n",
      "Val metrics: 91.14773869514465\n"
     ]
    },
    {
     "name": "stderr",
     "output_type": "stream",
     "text": [
      "Epoch 96/100: 100%|██████████| 205/205 [00:10<00:00, 19.61it/s, loss=0.00968]\n",
      "Validation: 100%|██████████| 52/52 [00:00<00:00, 73.77it/s]\n"
     ]
    },
    {
     "name": "stdout",
     "output_type": "stream",
     "text": [
      "Epoch 96/100: Train Loss: 0.0139, Val Loss: 1.9915\n",
      "Val metrics: 91.53439402580261\n"
     ]
    },
    {
     "name": "stderr",
     "output_type": "stream",
     "text": [
      "Epoch 97/100: 100%|██████████| 205/205 [00:10<00:00, 19.35it/s, loss=0.0124] \n",
      "Validation: 100%|██████████| 52/52 [00:00<00:00, 60.22it/s]\n"
     ]
    },
    {
     "name": "stdout",
     "output_type": "stream",
     "text": [
      "Epoch 97/100: Train Loss: 0.0123, Val Loss: 1.9935\n",
      "Val metrics: 91.45299196243286\n"
     ]
    },
    {
     "name": "stderr",
     "output_type": "stream",
     "text": [
      "Epoch 98/100: 100%|██████████| 205/205 [00:10<00:00, 19.26it/s, loss=0.00976]\n",
      "Validation: 100%|██████████| 52/52 [00:00<00:00, 76.47it/s]\n"
     ]
    },
    {
     "name": "stdout",
     "output_type": "stream",
     "text": [
      "Epoch 98/100: Train Loss: 0.0113, Val Loss: 2.0087\n",
      "Val metrics: 91.41229391098022\n"
     ]
    },
    {
     "name": "stderr",
     "output_type": "stream",
     "text": [
      "Epoch 99/100: 100%|██████████| 205/205 [00:10<00:00, 18.68it/s, loss=0.0099] \n",
      "Validation: 100%|██████████| 52/52 [00:00<00:00, 72.79it/s]\n"
     ]
    },
    {
     "name": "stdout",
     "output_type": "stream",
     "text": [
      "Epoch 99/100: Train Loss: 0.0117, Val Loss: 2.0208\n",
      "Val metrics: 91.45299196243286\n"
     ]
    },
    {
     "name": "stderr",
     "output_type": "stream",
     "text": [
      "Epoch 100/100: 100%|██████████| 205/205 [00:10<00:00, 19.19it/s, loss=0.00713]\n",
      "Validation: 100%|██████████| 52/52 [00:00<00:00, 74.34it/s]"
     ]
    },
    {
     "name": "stdout",
     "output_type": "stream",
     "text": [
      "Epoch 100/100: Train Loss: 0.0108, Val Loss: 2.0332\n",
      "Val metrics: 91.0866916179657\n"
     ]
    },
    {
     "name": "stderr",
     "output_type": "stream",
     "text": [
      "\n"
     ]
    }
   ],
   "source": [
    "NUM_EPOCHS = 100\n",
    "\n",
    "history = train_transformer(\n",
    "    model=model,\n",
    "    num_epochs=NUM_EPOCHS,\n",
    "    train_dataloader=train_dataloader,\n",
    "    val_dataloader=val_dataloader,\n",
    "    optimizer_class=Lion,\n",
    "    device=device,\n",
    "    metrics_fn=lambda preds, targets: 100 * (preds == targets).float().mean().item()\n",
    ")"
   ]
  },
  {
   "cell_type": "code",
   "execution_count": 6,
   "metadata": {},
   "outputs": [
    {
     "name": "stderr",
     "output_type": "stream",
     "text": [
      "No artists with labels found to put in legend.  Note that artists whose label start with an underscore are ignored when legend() is called with no argument.\n"
     ]
    },
    {
     "data": {
      "image/png": "[encoded data removed]",
      "text/plain": [
       "<Figure size 1000x500 with 1 Axes>"
      ]
     },
     "metadata": {},
     "output_type": "display_data"
    }
   ],
   "source": [
    "import matplotlib.pyplot as plt\n",
    "\n",
    "plt.figure(figsize=(10, 5))\n",
    "plt.plot(range(1, NUM_EPOCHS + 1), history['val_metrics'])\n",
    "plt.xlabel('Epochs')\n",
    "plt.ylabel('Accuracy (%)')\n",
    "plt.title('Val Accuracy Comparison')\n",
    "plt.legend()\n",
    "plt.show()"
   ]
  },
  {
   "cell_type": "code",
   "execution_count": 7,
   "metadata": {},
   "outputs": [
    {
     "data": {
      "image/png": "[encoded data removed]",
      "text/plain": [
       "<Figure size 1000x500 with 1 Axes>"
      ]
     },
     "metadata": {},
     "output_type": "display_data"
    }
   ],
   "source": [
    "plt.figure(figsize=(10, 5))\n",
    "plt.plot(range(1, NUM_EPOCHS + 1), history['train_loss'], label='Train Loss')\n",
    "plt.plot(range(1, NUM_EPOCHS + 1), history['val_loss'], label='Val Loss')\n",
    "plt.xlabel('Epochs')\n",
    "plt.ylabel('Loss')\n",
    "plt.title('Training and Val Loss Comparison')\n",
    "plt.legend()\n",
    "plt.show()"
   ]
  }
 ],
 "metadata": {
  "kernelspec": {
   "display_name": "base",
   "language": "python",
   "name": "python3"
  },
  "language_info": {
   "codemirror_mode": {
    "name": "ipython",
    "version": 3
   },
   "file_extension": ".py",
   "mimetype": "text/x-python",
   "name": "python",
   "nbconvert_exporter": "python",
   "pygments_lexer": "ipython3",
   "version": "3.12.2"
  }
 },
 "nbformat": 4,
 "nbformat_minor": 4
}
